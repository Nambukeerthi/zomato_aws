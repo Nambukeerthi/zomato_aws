{
 "cells": [
  {
   "cell_type": "code",
   "execution_count": 1,
   "metadata": {},
   "outputs": [
    {
     "data": {
      "text/html": [
       "<div>\n",
       "<style scoped>\n",
       "    .dataframe tbody tr th:only-of-type {\n",
       "        vertical-align: middle;\n",
       "    }\n",
       "\n",
       "    .dataframe tbody tr th {\n",
       "        vertical-align: top;\n",
       "    }\n",
       "\n",
       "    .dataframe thead th {\n",
       "        text-align: right;\n",
       "    }\n",
       "</style>\n",
       "<table border=\"1\" class=\"dataframe\">\n",
       "  <thead>\n",
       "    <tr style=\"text-align: right;\">\n",
       "      <th></th>\n",
       "      <th>Cuisines</th>\n",
       "      <th>Rating_text</th>\n",
       "      <th>Rating</th>\n",
       "      <th>City_id</th>\n",
       "      <th>Country_id</th>\n",
       "      <th>Average_cost</th>\n",
       "    </tr>\n",
       "  </thead>\n",
       "  <tbody>\n",
       "    <tr>\n",
       "      <th>0</th>\n",
       "      <td>American  Asian NorthIndian</td>\n",
       "      <td>VeryGood</td>\n",
       "      <td>4.3</td>\n",
       "      <td>1</td>\n",
       "      <td>1</td>\n",
       "      <td>1600</td>\n",
       "    </tr>\n",
       "    <tr>\n",
       "      <th>1</th>\n",
       "      <td>Thai  European  Mexican  NorthIndian  Chinese ...</td>\n",
       "      <td>Excellent</td>\n",
       "      <td>4.5</td>\n",
       "      <td>1</td>\n",
       "      <td>1</td>\n",
       "      <td>1500</td>\n",
       "    </tr>\n",
       "    <tr>\n",
       "      <th>2</th>\n",
       "      <td>Cafe Italian   Chinese</td>\n",
       "      <td>VeryGood</td>\n",
       "      <td>4.4</td>\n",
       "      <td>1</td>\n",
       "      <td>1</td>\n",
       "      <td>850</td>\n",
       "    </tr>\n",
       "    <tr>\n",
       "      <th>3</th>\n",
       "      <td>Italian</td>\n",
       "      <td>VeryGood</td>\n",
       "      <td>4.1</td>\n",
       "      <td>1</td>\n",
       "      <td>1</td>\n",
       "      <td>1850</td>\n",
       "    </tr>\n",
       "    <tr>\n",
       "      <th>4</th>\n",
       "      <td>NorthIndian  Italian Asian American</td>\n",
       "      <td>VeryGood</td>\n",
       "      <td>4.4</td>\n",
       "      <td>1</td>\n",
       "      <td>1</td>\n",
       "      <td>1600</td>\n",
       "    </tr>\n",
       "    <tr>\n",
       "      <th>...</th>\n",
       "      <td>...</td>\n",
       "      <td>...</td>\n",
       "      <td>...</td>\n",
       "      <td>...</td>\n",
       "      <td>...</td>\n",
       "      <td>...</td>\n",
       "    </tr>\n",
       "    <tr>\n",
       "      <th>9580</th>\n",
       "      <td>Mexican</td>\n",
       "      <td>Good</td>\n",
       "      <td>3.6</td>\n",
       "      <td>667</td>\n",
       "      <td>216</td>\n",
       "      <td>0</td>\n",
       "    </tr>\n",
       "    <tr>\n",
       "      <th>9581</th>\n",
       "      <td>American  Seafood  Steak</td>\n",
       "      <td>Good</td>\n",
       "      <td>3.6</td>\n",
       "      <td>667</td>\n",
       "      <td>216</td>\n",
       "      <td>40</td>\n",
       "    </tr>\n",
       "    <tr>\n",
       "      <th>9582</th>\n",
       "      <td>American  BBQ  Steak</td>\n",
       "      <td>Good</td>\n",
       "      <td>3.5</td>\n",
       "      <td>667</td>\n",
       "      <td>216</td>\n",
       "      <td>45</td>\n",
       "    </tr>\n",
       "    <tr>\n",
       "      <th>9583</th>\n",
       "      <td>Asian Thai</td>\n",
       "      <td>Good</td>\n",
       "      <td>3.6</td>\n",
       "      <td>667</td>\n",
       "      <td>216</td>\n",
       "      <td>10</td>\n",
       "    </tr>\n",
       "    <tr>\n",
       "      <th>9584</th>\n",
       "      <td>Pizza  Bar Food</td>\n",
       "      <td>Good</td>\n",
       "      <td>3.6</td>\n",
       "      <td>667</td>\n",
       "      <td>216</td>\n",
       "      <td>0</td>\n",
       "    </tr>\n",
       "  </tbody>\n",
       "</table>\n",
       "<p>9585 rows × 6 columns</p>\n",
       "</div>"
      ],
      "text/plain": [
       "                                               Cuisines Rating_text  Rating  \\\n",
       "0                           American  Asian NorthIndian    VeryGood     4.3   \n",
       "1     Thai  European  Mexican  NorthIndian  Chinese ...   Excellent     4.5   \n",
       "2                                Cafe Italian   Chinese    VeryGood     4.4   \n",
       "3                                              Italian     VeryGood     4.1   \n",
       "4                   NorthIndian  Italian Asian American    VeryGood     4.4   \n",
       "...                                                 ...         ...     ...   \n",
       "9580                                            Mexican        Good     3.6   \n",
       "9581                           American  Seafood  Steak        Good     3.6   \n",
       "9582                               American  BBQ  Steak        Good     3.5   \n",
       "9583                                         Asian Thai        Good     3.6   \n",
       "9584                                    Pizza  Bar Food        Good     3.6   \n",
       "\n",
       "      City_id  Country_id  Average_cost  \n",
       "0           1           1          1600  \n",
       "1           1           1          1500  \n",
       "2           1           1           850  \n",
       "3           1           1          1850  \n",
       "4           1           1          1600  \n",
       "...       ...         ...           ...  \n",
       "9580      667         216             0  \n",
       "9581      667         216            40  \n",
       "9582      667         216            45  \n",
       "9583      667         216            10  \n",
       "9584      667         216             0  \n",
       "\n",
       "[9585 rows x 6 columns]"
      ]
     },
     "execution_count": 1,
     "metadata": {},
     "output_type": "execute_result"
    }
   ],
   "source": [
    "import pandas as pd\n",
    "import numpy as np\n",
    "\n",
    "\n",
    "df = pd.read_csv('zomato_ml.csv')\n",
    "df"
   ]
  },
  {
   "cell_type": "code",
   "execution_count": 2,
   "metadata": {},
   "outputs": [
    {
     "data": {
      "text/plain": [
       "array(['  American  Asian NorthIndian',\n",
       "       'Thai  European  Mexican  NorthIndian  Chinese Cafe',\n",
       "       'Cafe Italian   Chinese', ..., ' Indian  Persian',\n",
       "       ' Desserts  Thai', ' American  Greek'], dtype=object)"
      ]
     },
     "execution_count": 2,
     "metadata": {},
     "output_type": "execute_result"
    }
   ],
   "source": [
    "df['Cuisines'].unique()"
   ]
  },
  {
   "cell_type": "code",
   "execution_count": 3,
   "metadata": {},
   "outputs": [],
   "source": [
    "df['Cuisines'] = df['Cuisines'].str.split(' ')\n",
    "df = df.explode('Cuisines').reset_index(drop=True)"
   ]
  },
  {
   "cell_type": "code",
   "execution_count": 4,
   "metadata": {},
   "outputs": [
    {
     "data": {
      "text/html": [
       "<div>\n",
       "<style scoped>\n",
       "    .dataframe tbody tr th:only-of-type {\n",
       "        vertical-align: middle;\n",
       "    }\n",
       "\n",
       "    .dataframe tbody tr th {\n",
       "        vertical-align: top;\n",
       "    }\n",
       "\n",
       "    .dataframe thead th {\n",
       "        text-align: right;\n",
       "    }\n",
       "</style>\n",
       "<table border=\"1\" class=\"dataframe\">\n",
       "  <thead>\n",
       "    <tr style=\"text-align: right;\">\n",
       "      <th></th>\n",
       "      <th>Cuisines</th>\n",
       "      <th>Rating_text</th>\n",
       "      <th>Rating</th>\n",
       "      <th>City_id</th>\n",
       "      <th>Country_id</th>\n",
       "      <th>Average_cost</th>\n",
       "    </tr>\n",
       "  </thead>\n",
       "  <tbody>\n",
       "    <tr>\n",
       "      <th>0</th>\n",
       "      <td></td>\n",
       "      <td>VeryGood</td>\n",
       "      <td>4.3</td>\n",
       "      <td>1</td>\n",
       "      <td>1</td>\n",
       "      <td>1600</td>\n",
       "    </tr>\n",
       "    <tr>\n",
       "      <th>1</th>\n",
       "      <td></td>\n",
       "      <td>VeryGood</td>\n",
       "      <td>4.3</td>\n",
       "      <td>1</td>\n",
       "      <td>1</td>\n",
       "      <td>1600</td>\n",
       "    </tr>\n",
       "    <tr>\n",
       "      <th>2</th>\n",
       "      <td>American</td>\n",
       "      <td>VeryGood</td>\n",
       "      <td>4.3</td>\n",
       "      <td>1</td>\n",
       "      <td>1</td>\n",
       "      <td>1600</td>\n",
       "    </tr>\n",
       "    <tr>\n",
       "      <th>3</th>\n",
       "      <td></td>\n",
       "      <td>VeryGood</td>\n",
       "      <td>4.3</td>\n",
       "      <td>1</td>\n",
       "      <td>1</td>\n",
       "      <td>1600</td>\n",
       "    </tr>\n",
       "    <tr>\n",
       "      <th>4</th>\n",
       "      <td>Asian</td>\n",
       "      <td>VeryGood</td>\n",
       "      <td>4.3</td>\n",
       "      <td>1</td>\n",
       "      <td>1</td>\n",
       "      <td>1600</td>\n",
       "    </tr>\n",
       "    <tr>\n",
       "      <th>...</th>\n",
       "      <td>...</td>\n",
       "      <td>...</td>\n",
       "      <td>...</td>\n",
       "      <td>...</td>\n",
       "      <td>...</td>\n",
       "      <td>...</td>\n",
       "    </tr>\n",
       "    <tr>\n",
       "      <th>35983</th>\n",
       "      <td></td>\n",
       "      <td>Good</td>\n",
       "      <td>3.6</td>\n",
       "      <td>667</td>\n",
       "      <td>216</td>\n",
       "      <td>0</td>\n",
       "    </tr>\n",
       "    <tr>\n",
       "      <th>35984</th>\n",
       "      <td>Pizza</td>\n",
       "      <td>Good</td>\n",
       "      <td>3.6</td>\n",
       "      <td>667</td>\n",
       "      <td>216</td>\n",
       "      <td>0</td>\n",
       "    </tr>\n",
       "    <tr>\n",
       "      <th>35985</th>\n",
       "      <td></td>\n",
       "      <td>Good</td>\n",
       "      <td>3.6</td>\n",
       "      <td>667</td>\n",
       "      <td>216</td>\n",
       "      <td>0</td>\n",
       "    </tr>\n",
       "    <tr>\n",
       "      <th>35986</th>\n",
       "      <td>Bar</td>\n",
       "      <td>Good</td>\n",
       "      <td>3.6</td>\n",
       "      <td>667</td>\n",
       "      <td>216</td>\n",
       "      <td>0</td>\n",
       "    </tr>\n",
       "    <tr>\n",
       "      <th>35987</th>\n",
       "      <td>Food</td>\n",
       "      <td>Good</td>\n",
       "      <td>3.6</td>\n",
       "      <td>667</td>\n",
       "      <td>216</td>\n",
       "      <td>0</td>\n",
       "    </tr>\n",
       "  </tbody>\n",
       "</table>\n",
       "<p>35988 rows × 6 columns</p>\n",
       "</div>"
      ],
      "text/plain": [
       "       Cuisines Rating_text  Rating  City_id  Country_id  Average_cost\n",
       "0                  VeryGood     4.3        1           1          1600\n",
       "1                  VeryGood     4.3        1           1          1600\n",
       "2      American    VeryGood     4.3        1           1          1600\n",
       "3                  VeryGood     4.3        1           1          1600\n",
       "4         Asian    VeryGood     4.3        1           1          1600\n",
       "...         ...         ...     ...      ...         ...           ...\n",
       "35983                  Good     3.6      667         216             0\n",
       "35984     Pizza        Good     3.6      667         216             0\n",
       "35985                  Good     3.6      667         216             0\n",
       "35986       Bar        Good     3.6      667         216             0\n",
       "35987      Food        Good     3.6      667         216             0\n",
       "\n",
       "[35988 rows x 6 columns]"
      ]
     },
     "execution_count": 4,
     "metadata": {},
     "output_type": "execute_result"
    }
   ],
   "source": [
    "df"
   ]
  },
  {
   "cell_type": "code",
   "execution_count": 5,
   "metadata": {},
   "outputs": [
    {
     "data": {
      "text/plain": [
       "array(['', 'American', 'Asian', 'NorthIndian', 'Thai', 'European',\n",
       "       'Mexican', 'Chinese', 'Cafe', 'Italian', 'FingerFood', 'Indian',\n",
       "       'Mughlai', 'Mediterranean', 'FastFood', 'SouthIndian', 'Middle',\n",
       "       'Eastern', 'Bengali', 'Tex-Mex', 'Biryani', 'Desserts', 'Seafood',\n",
       "       'StreetFood', 'Tea', 'Bakery', 'Burger', 'Pizza', 'HealthyFood',\n",
       "       'Salad', 'Beverages', 'Japanese', 'British', nan, 'Spanish',\n",
       "       'Greek', 'Charcoal', 'Grill', 'Indonesian', 'NorthEastern',\n",
       "       'Burmese', 'German', 'Andhra', 'Chettinad', 'Goan', 'Hyderabadi',\n",
       "       'Awadhi', 'Arabian', 'Lebanese', 'Lucknowi', 'IceCream', 'Kerala',\n",
       "       'Rajasthani', 'Armenian', 'Sandwich', 'Malaysian', 'French',\n",
       "       'Maharashtrian', 'Malwani', 'Portuguese', 'African', 'Juices',\n",
       "       'Tibetan', 'Mithai', 'BBQ', 'Cajun', 'Vietnamese', 'Steak',\n",
       "       'Parsi', 'Mangalorean', 'Gujarati', 'Korean', 'International',\n",
       "       'Fusion', 'Turkish', 'Singaporean', 'Malay', 'Western',\n",
       "       'Australian', 'Cantonese', 'Dim', 'Sum', 'Pakistani', 'Afghani',\n",
       "       'Filipino', 'Sri', 'Lankan', 'Döner', 'Bar', 'Food', 'Restaurant',\n",
       "       'Börek', 'World', 'Cuisine', 'Patisserie', 'Izgara', 'Fresh',\n",
       "       'Fish', 'Kebab', 'Coffee-Tea', 'Curry', 'Taiwanese',\n",
       "       'Contemporary', 'Sushi', 'Ramen', 'Tapas', 'Vegetarian', 'South',\n",
       "       'Peruvian', 'Latin', 'Brazilian', 'Mineira', 'Gourmet',\n",
       "       'Argentine', 'AsianFusion', 'Kiwi', 'Pub', 'and', 'Chips', 'Sunda',\n",
       "       'Peranakan', 'Deli', 'Belgian', 'Durban', 'Scottish', 'Breakfast',\n",
       "       'Southwestern', 'Bihari', 'Naga', 'Assamese', 'Drinks', 'Only',\n",
       "       'RawMeats', 'Kashmiri', 'Moroccan', 'Nepalese', 'Iranian',\n",
       "       'Varies', 'Oriya', 'Persian', 'Canadian', 'Southern', 'Soul',\n",
       "       'Caribbean', 'Irish', 'New', 'Hawaiian', 'Cuban', 'Diner',\n",
       "       'Bubble', 'Teriyaki'], dtype=object)"
      ]
     },
     "execution_count": 5,
     "metadata": {},
     "output_type": "execute_result"
    }
   ],
   "source": [
    "df['Cuisines'].unique()"
   ]
  },
  {
   "cell_type": "code",
   "execution_count": 6,
   "metadata": {},
   "outputs": [
    {
     "data": {
      "text/plain": [
       "(35988, 6)"
      ]
     },
     "execution_count": 6,
     "metadata": {},
     "output_type": "execute_result"
    }
   ],
   "source": [
    "df.shape"
   ]
  },
  {
   "cell_type": "code",
   "execution_count": 7,
   "metadata": {},
   "outputs": [],
   "source": [
    "df = df[~df['Cuisines'].isin(['', ' nan','Sri','South','and','Only','New','Soul'])]"
   ]
  },
  {
   "cell_type": "code",
   "execution_count": 8,
   "metadata": {},
   "outputs": [
    {
     "data": {
      "text/plain": [
       "array(['American', 'Asian', 'NorthIndian', 'Thai', 'European', 'Mexican',\n",
       "       'Chinese', 'Cafe', 'Italian', 'FingerFood', 'Indian', 'Mughlai',\n",
       "       'Mediterranean', 'FastFood', 'SouthIndian', 'Middle', 'Eastern',\n",
       "       'Bengali', 'Tex-Mex', 'Biryani', 'Desserts', 'Seafood',\n",
       "       'StreetFood', 'Tea', 'Bakery', 'Burger', 'Pizza', 'HealthyFood',\n",
       "       'Salad', 'Beverages', 'Japanese', 'British', nan, 'Spanish',\n",
       "       'Greek', 'Charcoal', 'Grill', 'Indonesian', 'NorthEastern',\n",
       "       'Burmese', 'German', 'Andhra', 'Chettinad', 'Goan', 'Hyderabadi',\n",
       "       'Awadhi', 'Arabian', 'Lebanese', 'Lucknowi', 'IceCream', 'Kerala',\n",
       "       'Rajasthani', 'Armenian', 'Sandwich', 'Malaysian', 'French',\n",
       "       'Maharashtrian', 'Malwani', 'Portuguese', 'African', 'Juices',\n",
       "       'Tibetan', 'Mithai', 'BBQ', 'Cajun', 'Vietnamese', 'Steak',\n",
       "       'Parsi', 'Mangalorean', 'Gujarati', 'Korean', 'International',\n",
       "       'Fusion', 'Turkish', 'Singaporean', 'Malay', 'Western',\n",
       "       'Australian', 'Cantonese', 'Dim', 'Sum', 'Pakistani', 'Afghani',\n",
       "       'Filipino', 'Lankan', 'Döner', 'Bar', 'Food', 'Restaurant',\n",
       "       'Börek', 'World', 'Cuisine', 'Patisserie', 'Izgara', 'Fresh',\n",
       "       'Fish', 'Kebab', 'Coffee-Tea', 'Curry', 'Taiwanese',\n",
       "       'Contemporary', 'Sushi', 'Ramen', 'Tapas', 'Vegetarian',\n",
       "       'Peruvian', 'Latin', 'Brazilian', 'Mineira', 'Gourmet',\n",
       "       'Argentine', 'AsianFusion', 'Kiwi', 'Pub', 'Chips', 'Sunda',\n",
       "       'Peranakan', 'Deli', 'Belgian', 'Durban', 'Scottish', 'Breakfast',\n",
       "       'Southwestern', 'Bihari', 'Naga', 'Assamese', 'Drinks', 'RawMeats',\n",
       "       'Kashmiri', 'Moroccan', 'Nepalese', 'Iranian', 'Varies', 'Oriya',\n",
       "       'Persian', 'Canadian', 'Southern', 'Caribbean', 'Irish',\n",
       "       'Hawaiian', 'Cuban', 'Diner', 'Bubble', 'Teriyaki'], dtype=object)"
      ]
     },
     "execution_count": 8,
     "metadata": {},
     "output_type": "execute_result"
    }
   ],
   "source": [
    "df['Cuisines'].unique()"
   ]
  },
  {
   "cell_type": "code",
   "execution_count": 9,
   "metadata": {},
   "outputs": [
    {
     "data": {
      "text/plain": [
       "(19173, 6)"
      ]
     },
     "execution_count": 9,
     "metadata": {},
     "output_type": "execute_result"
    }
   ],
   "source": [
    "df.shape"
   ]
  },
  {
   "cell_type": "code",
   "execution_count": 10,
   "metadata": {},
   "outputs": [
    {
     "data": {
      "text/plain": [
       "Cuisines         object\n",
       "Rating_text      object\n",
       "Rating          float64\n",
       "City_id           int64\n",
       "Country_id        int64\n",
       "Average_cost      int64\n",
       "dtype: object"
      ]
     },
     "execution_count": 10,
     "metadata": {},
     "output_type": "execute_result"
    }
   ],
   "source": [
    "df.dtypes"
   ]
  },
  {
   "cell_type": "code",
   "execution_count": 11,
   "metadata": {},
   "outputs": [
    {
     "data": {
      "text/plain": [
       "array(['VeryGood', 'Excellent', 'Poor', 'Good', 'Average', 'Not rated'],\n",
       "      dtype=object)"
      ]
     },
     "execution_count": 11,
     "metadata": {},
     "output_type": "execute_result"
    }
   ],
   "source": [
    "df['Rating_text'].unique()"
   ]
  },
  {
   "cell_type": "code",
   "execution_count": 12,
   "metadata": {},
   "outputs": [
    {
     "data": {
      "text/plain": [
       "array([4.3, 4.5, 4.4, 4.1, 4.6, 2.4, 4.2, 3.7, 3.9, 4.8, 4.9, 4. , 3.5,\n",
       "       3.6, 4.7, 3.8, 3.4, 2.6, 3.3, 3.1, 3. , 3.2, 2.2, 2.5, 0. , 2.8,\n",
       "       2.3, 2.9, 2.7, 2.1, 1.9, 2. , 1.8])"
      ]
     },
     "execution_count": 12,
     "metadata": {},
     "output_type": "execute_result"
    }
   ],
   "source": [
    "df['Rating'].unique()\n"
   ]
  },
  {
   "cell_type": "code",
   "execution_count": 13,
   "metadata": {},
   "outputs": [],
   "source": [
    "df.loc[(df['Rating'] >= 0) & (df['Rating'] < 1), 'Rating'] = 1\n",
    "df.loc[(df['Rating'] >= 1.1) & (df['Rating'] < 2), 'Rating'] = 2\n",
    "df.loc[(df['Rating'] >= 2.1) & (df['Rating'] < 3), 'Rating'] = 3\n",
    "df.loc[(df['Rating'] >= 3.1) & (df['Rating'] < 4), 'Rating'] = 4\n",
    "df.loc[(df['Rating'] >= 4.1) & (df['Rating'] < 5), 'Rating'] = 5\n",
    "    "
   ]
  },
  {
   "cell_type": "code",
   "execution_count": 14,
   "metadata": {},
   "outputs": [
    {
     "data": {
      "text/plain": [
       "array([5., 3., 4., 1., 2.])"
      ]
     },
     "execution_count": 14,
     "metadata": {},
     "output_type": "execute_result"
    }
   ],
   "source": [
    "df['Rating'].unique()"
   ]
  },
  {
   "cell_type": "code",
   "execution_count": 15,
   "metadata": {},
   "outputs": [
    {
     "data": {
      "text/plain": [
       "array([    1,     2,     3,     4,     5,     6,     7,     8,     9,\n",
       "          10,    11,    12,    13,    14,    16,    20,    21,    22,\n",
       "          23,    24,    25,    26,    27,    28,    29,    30,    31,\n",
       "          32,    33,    34,    35,    36,    37,    38,    39,    40,\n",
       "          51,    52,    56,    57,    58,    59,    60,    61,    62,\n",
       "          63,    64,    65,    66,    67,    68,    69,    70,    71,\n",
       "          72,    73,    74,    75,    76,  3600,  8351,  2249,  2575,\n",
       "        1556,  1364,  1563,  7598,  1342,  3418, 10358,  8956, 10261,\n",
       "        3977,  1770,  8410,  7634,  1902,  6321, 11052,  2242,  1730,\n",
       "        2218,  2309,  8327,  1695,  1565, 10238,  1345,  2824, 11071,\n",
       "        1800,  1424,  3525,  1353,  2051,   943,  2617,  2576,  8397,\n",
       "        1924,  2430,   601,   604,   607,   610,   613,   616,   619,\n",
       "         622,   625,   628,   634,   637,   640,   643,   646,   649,\n",
       "         652,   655,   658,   664,   667], dtype=int64)"
      ]
     },
     "execution_count": 15,
     "metadata": {},
     "output_type": "execute_result"
    }
   ],
   "source": [
    "df['City_id'].unique()"
   ]
  },
  {
   "cell_type": "code",
   "execution_count": 16,
   "metadata": {},
   "outputs": [
    {
     "data": {
      "text/plain": [
       "array([  1, 214, 184, 191, 208, 215, 166, 162, 189,  30, 148,  17,  94,\n",
       "        37, 216,  14], dtype=int64)"
      ]
     },
     "execution_count": 16,
     "metadata": {},
     "output_type": "execute_result"
    }
   ],
   "source": [
    "df['Country_id'].unique()"
   ]
  },
  {
   "cell_type": "code",
   "execution_count": 17,
   "metadata": {},
   "outputs": [
    {
     "data": {
      "text/plain": [
       "Cuisines         object\n",
       "Rating_text      object\n",
       "Rating          float64\n",
       "City_id           int64\n",
       "Country_id        int64\n",
       "Average_cost      int64\n",
       "dtype: object"
      ]
     },
     "execution_count": 17,
     "metadata": {},
     "output_type": "execute_result"
    }
   ],
   "source": [
    "df.dtypes"
   ]
  },
  {
   "cell_type": "code",
   "execution_count": 18,
   "metadata": {},
   "outputs": [
    {
     "data": {
      "text/html": [
       "<div>\n",
       "<style scoped>\n",
       "    .dataframe tbody tr th:only-of-type {\n",
       "        vertical-align: middle;\n",
       "    }\n",
       "\n",
       "    .dataframe tbody tr th {\n",
       "        vertical-align: top;\n",
       "    }\n",
       "\n",
       "    .dataframe thead th {\n",
       "        text-align: right;\n",
       "    }\n",
       "</style>\n",
       "<table border=\"1\" class=\"dataframe\">\n",
       "  <thead>\n",
       "    <tr style=\"text-align: right;\">\n",
       "      <th></th>\n",
       "      <th>Cuisines</th>\n",
       "      <th>Rating_text</th>\n",
       "      <th>Rating</th>\n",
       "      <th>City_id</th>\n",
       "      <th>Country_id</th>\n",
       "      <th>Average_cost</th>\n",
       "    </tr>\n",
       "  </thead>\n",
       "  <tbody>\n",
       "    <tr>\n",
       "      <th>2</th>\n",
       "      <td>American</td>\n",
       "      <td>VeryGood</td>\n",
       "      <td>5.0</td>\n",
       "      <td>1</td>\n",
       "      <td>1</td>\n",
       "      <td>1600</td>\n",
       "    </tr>\n",
       "    <tr>\n",
       "      <th>4</th>\n",
       "      <td>Asian</td>\n",
       "      <td>VeryGood</td>\n",
       "      <td>5.0</td>\n",
       "      <td>1</td>\n",
       "      <td>1</td>\n",
       "      <td>1600</td>\n",
       "    </tr>\n",
       "    <tr>\n",
       "      <th>5</th>\n",
       "      <td>NorthIndian</td>\n",
       "      <td>VeryGood</td>\n",
       "      <td>5.0</td>\n",
       "      <td>1</td>\n",
       "      <td>1</td>\n",
       "      <td>1600</td>\n",
       "    </tr>\n",
       "    <tr>\n",
       "      <th>6</th>\n",
       "      <td>Thai</td>\n",
       "      <td>Excellent</td>\n",
       "      <td>5.0</td>\n",
       "      <td>1</td>\n",
       "      <td>1</td>\n",
       "      <td>1500</td>\n",
       "    </tr>\n",
       "    <tr>\n",
       "      <th>8</th>\n",
       "      <td>European</td>\n",
       "      <td>Excellent</td>\n",
       "      <td>5.0</td>\n",
       "      <td>1</td>\n",
       "      <td>1</td>\n",
       "      <td>1500</td>\n",
       "    </tr>\n",
       "    <tr>\n",
       "      <th>...</th>\n",
       "      <td>...</td>\n",
       "      <td>...</td>\n",
       "      <td>...</td>\n",
       "      <td>...</td>\n",
       "      <td>...</td>\n",
       "      <td>...</td>\n",
       "    </tr>\n",
       "    <tr>\n",
       "      <th>35981</th>\n",
       "      <td>Asian</td>\n",
       "      <td>Good</td>\n",
       "      <td>4.0</td>\n",
       "      <td>667</td>\n",
       "      <td>216</td>\n",
       "      <td>10</td>\n",
       "    </tr>\n",
       "    <tr>\n",
       "      <th>35982</th>\n",
       "      <td>Thai</td>\n",
       "      <td>Good</td>\n",
       "      <td>4.0</td>\n",
       "      <td>667</td>\n",
       "      <td>216</td>\n",
       "      <td>10</td>\n",
       "    </tr>\n",
       "    <tr>\n",
       "      <th>35984</th>\n",
       "      <td>Pizza</td>\n",
       "      <td>Good</td>\n",
       "      <td>4.0</td>\n",
       "      <td>667</td>\n",
       "      <td>216</td>\n",
       "      <td>0</td>\n",
       "    </tr>\n",
       "    <tr>\n",
       "      <th>35986</th>\n",
       "      <td>Bar</td>\n",
       "      <td>Good</td>\n",
       "      <td>4.0</td>\n",
       "      <td>667</td>\n",
       "      <td>216</td>\n",
       "      <td>0</td>\n",
       "    </tr>\n",
       "    <tr>\n",
       "      <th>35987</th>\n",
       "      <td>Food</td>\n",
       "      <td>Good</td>\n",
       "      <td>4.0</td>\n",
       "      <td>667</td>\n",
       "      <td>216</td>\n",
       "      <td>0</td>\n",
       "    </tr>\n",
       "  </tbody>\n",
       "</table>\n",
       "<p>19173 rows × 6 columns</p>\n",
       "</div>"
      ],
      "text/plain": [
       "          Cuisines Rating_text  Rating  City_id  Country_id  Average_cost\n",
       "2         American    VeryGood     5.0        1           1          1600\n",
       "4            Asian    VeryGood     5.0        1           1          1600\n",
       "5      NorthIndian    VeryGood     5.0        1           1          1600\n",
       "6             Thai   Excellent     5.0        1           1          1500\n",
       "8         European   Excellent     5.0        1           1          1500\n",
       "...            ...         ...     ...      ...         ...           ...\n",
       "35981        Asian        Good     4.0      667         216            10\n",
       "35982         Thai        Good     4.0      667         216            10\n",
       "35984        Pizza        Good     4.0      667         216             0\n",
       "35986          Bar        Good     4.0      667         216             0\n",
       "35987         Food        Good     4.0      667         216             0\n",
       "\n",
       "[19173 rows x 6 columns]"
      ]
     },
     "execution_count": 18,
     "metadata": {},
     "output_type": "execute_result"
    }
   ],
   "source": [
    "df"
   ]
  },
  {
   "cell_type": "code",
   "execution_count": 19,
   "metadata": {},
   "outputs": [
    {
     "data": {
      "text/plain": [
       "Cuisines        6\n",
       "Rating_text     0\n",
       "Rating          0\n",
       "City_id         0\n",
       "Country_id      0\n",
       "Average_cost    0\n",
       "dtype: int64"
      ]
     },
     "execution_count": 19,
     "metadata": {},
     "output_type": "execute_result"
    }
   ],
   "source": [
    "df.isna().sum()"
   ]
  },
  {
   "cell_type": "code",
   "execution_count": 20,
   "metadata": {},
   "outputs": [],
   "source": [
    "df = df.dropna()"
   ]
  },
  {
   "cell_type": "code",
   "execution_count": 21,
   "metadata": {},
   "outputs": [
    {
     "data": {
      "text/plain": [
       "Cuisines        0\n",
       "Rating_text     0\n",
       "Rating          0\n",
       "City_id         0\n",
       "Country_id      0\n",
       "Average_cost    0\n",
       "dtype: int64"
      ]
     },
     "execution_count": 21,
     "metadata": {},
     "output_type": "execute_result"
    }
   ],
   "source": [
    "df.isna().sum()"
   ]
  },
  {
   "cell_type": "code",
   "execution_count": 22,
   "metadata": {},
   "outputs": [
    {
     "data": {
      "text/plain": [
       "13124"
      ]
     },
     "execution_count": 22,
     "metadata": {},
     "output_type": "execute_result"
    }
   ],
   "source": [
    "df.duplicated().sum()"
   ]
  },
  {
   "cell_type": "code",
   "execution_count": 129,
   "metadata": {},
   "outputs": [
    {
     "name": "stdout",
     "output_type": "stream",
     "text": [
      "          Cuisines Rating_text  Rating  City_id  Country_id  Average_cost\n",
      "23     NorthIndian    VeryGood     5.0        1           1          1600\n",
      "26           Asian    VeryGood     5.0        1           1          1600\n",
      "27        American    VeryGood     5.0        1           1          1600\n",
      "53          Indian    VeryGood     5.0        1           1          2200\n",
      "90        American    VeryGood     5.0        1           1          1600\n",
      "...            ...         ...     ...      ...         ...           ...\n",
      "35955     Sandwich        Good     4.0      667         216            10\n",
      "35961       Burger        Good     4.0      667         216            10\n",
      "35963        Pizza        Good     4.0      667         216            10\n",
      "35965     Sandwich        Good     4.0      667         216            10\n",
      "35969     American        Good     4.0      667         216            40\n",
      "\n",
      "[13124 rows x 6 columns]\n"
     ]
    }
   ],
   "source": [
    "duplicates = df[df.duplicated()]\n",
    "print(duplicates)"
   ]
  },
  {
   "cell_type": "code",
   "execution_count": 23,
   "metadata": {},
   "outputs": [],
   "source": [
    "# Drop duplicate rows\n",
    "df1 = df.drop_duplicates()\n",
    "\n",
    "# Reset index (drop=True avoids old index being added as a column)\n",
    "df1 = df1.reset_index(drop=True)"
   ]
  },
  {
   "cell_type": "code",
   "execution_count": 24,
   "metadata": {},
   "outputs": [
    {
     "data": {
      "text/html": [
       "<div>\n",
       "<style scoped>\n",
       "    .dataframe tbody tr th:only-of-type {\n",
       "        vertical-align: middle;\n",
       "    }\n",
       "\n",
       "    .dataframe tbody tr th {\n",
       "        vertical-align: top;\n",
       "    }\n",
       "\n",
       "    .dataframe thead th {\n",
       "        text-align: right;\n",
       "    }\n",
       "</style>\n",
       "<table border=\"1\" class=\"dataframe\">\n",
       "  <thead>\n",
       "    <tr style=\"text-align: right;\">\n",
       "      <th></th>\n",
       "      <th>Cuisines</th>\n",
       "      <th>Rating_text</th>\n",
       "      <th>Rating</th>\n",
       "      <th>City_id</th>\n",
       "      <th>Country_id</th>\n",
       "      <th>Average_cost</th>\n",
       "    </tr>\n",
       "  </thead>\n",
       "  <tbody>\n",
       "    <tr>\n",
       "      <th>0</th>\n",
       "      <td>American</td>\n",
       "      <td>VeryGood</td>\n",
       "      <td>5.0</td>\n",
       "      <td>1</td>\n",
       "      <td>1</td>\n",
       "      <td>1600</td>\n",
       "    </tr>\n",
       "    <tr>\n",
       "      <th>1</th>\n",
       "      <td>Asian</td>\n",
       "      <td>VeryGood</td>\n",
       "      <td>5.0</td>\n",
       "      <td>1</td>\n",
       "      <td>1</td>\n",
       "      <td>1600</td>\n",
       "    </tr>\n",
       "    <tr>\n",
       "      <th>2</th>\n",
       "      <td>NorthIndian</td>\n",
       "      <td>VeryGood</td>\n",
       "      <td>5.0</td>\n",
       "      <td>1</td>\n",
       "      <td>1</td>\n",
       "      <td>1600</td>\n",
       "    </tr>\n",
       "    <tr>\n",
       "      <th>3</th>\n",
       "      <td>Thai</td>\n",
       "      <td>Excellent</td>\n",
       "      <td>5.0</td>\n",
       "      <td>1</td>\n",
       "      <td>1</td>\n",
       "      <td>1500</td>\n",
       "    </tr>\n",
       "    <tr>\n",
       "      <th>4</th>\n",
       "      <td>European</td>\n",
       "      <td>Excellent</td>\n",
       "      <td>5.0</td>\n",
       "      <td>1</td>\n",
       "      <td>1</td>\n",
       "      <td>1500</td>\n",
       "    </tr>\n",
       "    <tr>\n",
       "      <th>...</th>\n",
       "      <td>...</td>\n",
       "      <td>...</td>\n",
       "      <td>...</td>\n",
       "      <td>...</td>\n",
       "      <td>...</td>\n",
       "      <td>...</td>\n",
       "    </tr>\n",
       "    <tr>\n",
       "      <th>6038</th>\n",
       "      <td>Asian</td>\n",
       "      <td>Good</td>\n",
       "      <td>4.0</td>\n",
       "      <td>667</td>\n",
       "      <td>216</td>\n",
       "      <td>10</td>\n",
       "    </tr>\n",
       "    <tr>\n",
       "      <th>6039</th>\n",
       "      <td>Thai</td>\n",
       "      <td>Good</td>\n",
       "      <td>4.0</td>\n",
       "      <td>667</td>\n",
       "      <td>216</td>\n",
       "      <td>10</td>\n",
       "    </tr>\n",
       "    <tr>\n",
       "      <th>6040</th>\n",
       "      <td>Pizza</td>\n",
       "      <td>Good</td>\n",
       "      <td>4.0</td>\n",
       "      <td>667</td>\n",
       "      <td>216</td>\n",
       "      <td>0</td>\n",
       "    </tr>\n",
       "    <tr>\n",
       "      <th>6041</th>\n",
       "      <td>Bar</td>\n",
       "      <td>Good</td>\n",
       "      <td>4.0</td>\n",
       "      <td>667</td>\n",
       "      <td>216</td>\n",
       "      <td>0</td>\n",
       "    </tr>\n",
       "    <tr>\n",
       "      <th>6042</th>\n",
       "      <td>Food</td>\n",
       "      <td>Good</td>\n",
       "      <td>4.0</td>\n",
       "      <td>667</td>\n",
       "      <td>216</td>\n",
       "      <td>0</td>\n",
       "    </tr>\n",
       "  </tbody>\n",
       "</table>\n",
       "<p>6043 rows × 6 columns</p>\n",
       "</div>"
      ],
      "text/plain": [
       "         Cuisines Rating_text  Rating  City_id  Country_id  Average_cost\n",
       "0        American    VeryGood     5.0        1           1          1600\n",
       "1           Asian    VeryGood     5.0        1           1          1600\n",
       "2     NorthIndian    VeryGood     5.0        1           1          1600\n",
       "3            Thai   Excellent     5.0        1           1          1500\n",
       "4        European   Excellent     5.0        1           1          1500\n",
       "...           ...         ...     ...      ...         ...           ...\n",
       "6038        Asian        Good     4.0      667         216            10\n",
       "6039         Thai        Good     4.0      667         216            10\n",
       "6040        Pizza        Good     4.0      667         216             0\n",
       "6041          Bar        Good     4.0      667         216             0\n",
       "6042         Food        Good     4.0      667         216             0\n",
       "\n",
       "[6043 rows x 6 columns]"
      ]
     },
     "execution_count": 24,
     "metadata": {},
     "output_type": "execute_result"
    }
   ],
   "source": [
    "df1"
   ]
  },
  {
   "cell_type": "code",
   "execution_count": 25,
   "metadata": {},
   "outputs": [
    {
     "data": {
      "text/plain": [
       "array(['American', 'Asian', 'NorthIndian', 'Thai', 'European', 'Mexican',\n",
       "       'Chinese', 'Cafe', 'Italian', 'FingerFood', 'Indian', 'Mughlai',\n",
       "       'Mediterranean', 'FastFood', 'SouthIndian', 'Middle', 'Eastern',\n",
       "       'Bengali', 'Tex-Mex', 'Biryani', 'Desserts', 'Seafood',\n",
       "       'StreetFood', 'Tea', 'Bakery', 'Burger', 'Pizza', 'HealthyFood',\n",
       "       'Salad', 'Beverages', 'Japanese', 'British', 'Spanish', 'Greek',\n",
       "       'Charcoal', 'Grill', 'Indonesian', 'NorthEastern', 'Burmese',\n",
       "       'German', 'Andhra', 'Chettinad', 'Goan', 'Hyderabadi', 'Awadhi',\n",
       "       'Arabian', 'Lebanese', 'Lucknowi', 'IceCream', 'Kerala',\n",
       "       'Rajasthani', 'Armenian', 'Sandwich', 'Malaysian', 'French',\n",
       "       'Maharashtrian', 'Malwani', 'Portuguese', 'African', 'Juices',\n",
       "       'Tibetan', 'Mithai', 'BBQ', 'Cajun', 'Vietnamese', 'Steak',\n",
       "       'Parsi', 'Mangalorean', 'Gujarati', 'Korean', 'International',\n",
       "       'Fusion', 'Turkish', 'Singaporean', 'Malay', 'Western',\n",
       "       'Australian', 'Cantonese', 'Dim', 'Sum', 'Pakistani', 'Afghani',\n",
       "       'Filipino', 'Lankan', 'Döner', 'Bar', 'Food', 'Restaurant',\n",
       "       'Börek', 'World', 'Cuisine', 'Patisserie', 'Izgara', 'Fresh',\n",
       "       'Fish', 'Kebab', 'Coffee-Tea', 'Curry', 'Taiwanese',\n",
       "       'Contemporary', 'Sushi', 'Ramen', 'Tapas', 'Vegetarian',\n",
       "       'Peruvian', 'Latin', 'Brazilian', 'Mineira', 'Gourmet',\n",
       "       'Argentine', 'AsianFusion', 'Kiwi', 'Pub', 'Chips', 'Sunda',\n",
       "       'Peranakan', 'Deli', 'Belgian', 'Durban', 'Scottish', 'Breakfast',\n",
       "       'Southwestern', 'Bihari', 'Naga', 'Assamese', 'Drinks', 'RawMeats',\n",
       "       'Kashmiri', 'Moroccan', 'Nepalese', 'Iranian', 'Varies', 'Oriya',\n",
       "       'Persian', 'Canadian', 'Southern', 'Caribbean', 'Irish',\n",
       "       'Hawaiian', 'Cuban', 'Diner', 'Bubble', 'Teriyaki'], dtype=object)"
      ]
     },
     "execution_count": 25,
     "metadata": {},
     "output_type": "execute_result"
    }
   ],
   "source": [
    "df1['Cuisines'].unique()"
   ]
  },
  {
   "cell_type": "code",
   "execution_count": 26,
   "metadata": {},
   "outputs": [],
   "source": [
    "\n",
    "from sklearn.preprocessing import LabelEncoder\n",
    "le = LabelEncoder()\n",
    "\n",
    "rate_text_mapping ={'Not rated':1, 'Poor':2, 'Average':3, 'Good':4, 'VeryGood':5, 'Excellent':6}\n",
    "# alter the column with the mapped columns\n",
    "df1['Rating_text'] = df1['Rating_text'].map(rate_text_mapping)\n",
    "\n",
    "#list unique streetnames\n",
    "cuisines = df1['Cuisines'].unique()\n",
    "# map the street to provide input to ML model\n",
    "cuisines_mapping = {street: idx + 1 for idx, street in enumerate(cuisines)}\n"
   ]
  },
  {
   "cell_type": "code",
   "execution_count": 135,
   "metadata": {},
   "outputs": [
    {
     "data": {
      "text/plain": [
       "{'American': 1,\n",
       " 'Asian': 2,\n",
       " 'NorthIndian': 3,\n",
       " 'Thai': 4,\n",
       " 'European': 5,\n",
       " 'Mexican': 6,\n",
       " 'Chinese': 7,\n",
       " 'Cafe': 8,\n",
       " 'Italian': 9,\n",
       " 'FingerFood': 10,\n",
       " 'Indian': 11,\n",
       " 'Mughlai': 12,\n",
       " 'Mediterranean': 13,\n",
       " 'FastFood': 14,\n",
       " 'SouthIndian': 15,\n",
       " 'Middle': 16,\n",
       " 'Eastern': 17,\n",
       " 'Bengali': 18,\n",
       " 'Tex-Mex': 19,\n",
       " 'Biryani': 20,\n",
       " 'Desserts': 21,\n",
       " 'Seafood': 22,\n",
       " 'StreetFood': 23,\n",
       " 'Tea': 24,\n",
       " 'Bakery': 25,\n",
       " 'Burger': 26,\n",
       " 'Pizza': 27,\n",
       " 'HealthyFood': 28,\n",
       " 'Salad': 29,\n",
       " 'Beverages': 30,\n",
       " 'Japanese': 31,\n",
       " 'British': 32,\n",
       " 'Spanish': 33,\n",
       " 'Greek': 34,\n",
       " 'Charcoal': 35,\n",
       " 'Grill': 36,\n",
       " 'Indonesian': 37,\n",
       " 'NorthEastern': 38,\n",
       " 'Burmese': 39,\n",
       " 'German': 40,\n",
       " 'Andhra': 41,\n",
       " 'Chettinad': 42,\n",
       " 'Goan': 43,\n",
       " 'Hyderabadi': 44,\n",
       " 'Awadhi': 45,\n",
       " 'Arabian': 46,\n",
       " 'Lebanese': 47,\n",
       " 'Lucknowi': 48,\n",
       " 'IceCream': 49,\n",
       " 'Kerala': 50,\n",
       " 'Rajasthani': 51,\n",
       " 'Armenian': 52,\n",
       " 'Sandwich': 53,\n",
       " 'Malaysian': 54,\n",
       " 'French': 55,\n",
       " 'Maharashtrian': 56,\n",
       " 'Malwani': 57,\n",
       " 'Portuguese': 58,\n",
       " 'African': 59,\n",
       " 'Juices': 60,\n",
       " 'Tibetan': 61,\n",
       " 'Mithai': 62,\n",
       " 'BBQ': 63,\n",
       " 'Cajun': 64,\n",
       " 'Vietnamese': 65,\n",
       " 'Steak': 66,\n",
       " 'Parsi': 67,\n",
       " 'Mangalorean': 68,\n",
       " 'Gujarati': 69,\n",
       " 'Korean': 70,\n",
       " 'International': 71,\n",
       " 'Fusion': 72,\n",
       " 'Turkish': 73,\n",
       " 'Singaporean': 74,\n",
       " 'Malay': 75,\n",
       " 'Western': 76,\n",
       " 'Australian': 77,\n",
       " 'Cantonese': 78,\n",
       " 'Dim': 79,\n",
       " 'Sum': 80,\n",
       " 'Pakistani': 81,\n",
       " 'Afghani': 82,\n",
       " 'Filipino': 83,\n",
       " 'Lankan': 84,\n",
       " 'Döner': 85,\n",
       " 'Bar': 86,\n",
       " 'Food': 87,\n",
       " 'Restaurant': 88,\n",
       " 'Börek': 89,\n",
       " 'World': 90,\n",
       " 'Cuisine': 91,\n",
       " 'Patisserie': 92,\n",
       " 'Izgara': 93,\n",
       " 'Fresh': 94,\n",
       " 'Fish': 95,\n",
       " 'Kebab': 96,\n",
       " 'Coffee-Tea': 97,\n",
       " 'Curry': 98,\n",
       " 'Taiwanese': 99,\n",
       " 'Contemporary': 100,\n",
       " 'Sushi': 101,\n",
       " 'Ramen': 102,\n",
       " 'Tapas': 103,\n",
       " 'Vegetarian': 104,\n",
       " 'Peruvian': 105,\n",
       " 'Latin': 106,\n",
       " 'Brazilian': 107,\n",
       " 'Mineira': 108,\n",
       " 'Gourmet': 109,\n",
       " 'Argentine': 110,\n",
       " 'AsianFusion': 111,\n",
       " 'Kiwi': 112,\n",
       " 'Pub': 113,\n",
       " 'Chips': 114,\n",
       " 'Sunda': 115,\n",
       " 'Peranakan': 116,\n",
       " 'Deli': 117,\n",
       " 'Belgian': 118,\n",
       " 'Durban': 119,\n",
       " 'Scottish': 120,\n",
       " 'Breakfast': 121,\n",
       " 'Southwestern': 122,\n",
       " 'Bihari': 123,\n",
       " 'Naga': 124,\n",
       " 'Assamese': 125,\n",
       " 'Drinks': 126,\n",
       " 'RawMeats': 127,\n",
       " 'Kashmiri': 128,\n",
       " 'Moroccan': 129,\n",
       " 'Nepalese': 130,\n",
       " 'Iranian': 131,\n",
       " 'Varies': 132,\n",
       " 'Oriya': 133,\n",
       " 'Persian': 134,\n",
       " 'Canadian': 135,\n",
       " 'Southern': 136,\n",
       " 'Caribbean': 137,\n",
       " 'Irish': 138,\n",
       " 'Hawaiian': 139,\n",
       " 'Cuban': 140,\n",
       " 'Diner': 141,\n",
       " 'Bubble': 142,\n",
       " 'Teriyaki': 143}"
      ]
     },
     "execution_count": 135,
     "metadata": {},
     "output_type": "execute_result"
    }
   ],
   "source": [
    "cuisines_mapping "
   ]
  },
  {
   "cell_type": "code",
   "execution_count": 28,
   "metadata": {},
   "outputs": [],
   "source": [
    "df1['Cuisines'] = df1['Cuisines'].map(cuisines_mapping)"
   ]
  },
  {
   "cell_type": "code",
   "execution_count": 29,
   "metadata": {},
   "outputs": [
    {
     "data": {
      "text/html": [
       "<div>\n",
       "<style scoped>\n",
       "    .dataframe tbody tr th:only-of-type {\n",
       "        vertical-align: middle;\n",
       "    }\n",
       "\n",
       "    .dataframe tbody tr th {\n",
       "        vertical-align: top;\n",
       "    }\n",
       "\n",
       "    .dataframe thead th {\n",
       "        text-align: right;\n",
       "    }\n",
       "</style>\n",
       "<table border=\"1\" class=\"dataframe\">\n",
       "  <thead>\n",
       "    <tr style=\"text-align: right;\">\n",
       "      <th></th>\n",
       "      <th>Cuisines</th>\n",
       "      <th>Rating_text</th>\n",
       "      <th>Rating</th>\n",
       "      <th>City_id</th>\n",
       "      <th>Country_id</th>\n",
       "      <th>Average_cost</th>\n",
       "    </tr>\n",
       "  </thead>\n",
       "  <tbody>\n",
       "    <tr>\n",
       "      <th>0</th>\n",
       "      <td>1</td>\n",
       "      <td>5</td>\n",
       "      <td>5.0</td>\n",
       "      <td>1</td>\n",
       "      <td>1</td>\n",
       "      <td>1600</td>\n",
       "    </tr>\n",
       "    <tr>\n",
       "      <th>1</th>\n",
       "      <td>2</td>\n",
       "      <td>5</td>\n",
       "      <td>5.0</td>\n",
       "      <td>1</td>\n",
       "      <td>1</td>\n",
       "      <td>1600</td>\n",
       "    </tr>\n",
       "    <tr>\n",
       "      <th>2</th>\n",
       "      <td>3</td>\n",
       "      <td>5</td>\n",
       "      <td>5.0</td>\n",
       "      <td>1</td>\n",
       "      <td>1</td>\n",
       "      <td>1600</td>\n",
       "    </tr>\n",
       "    <tr>\n",
       "      <th>3</th>\n",
       "      <td>4</td>\n",
       "      <td>6</td>\n",
       "      <td>5.0</td>\n",
       "      <td>1</td>\n",
       "      <td>1</td>\n",
       "      <td>1500</td>\n",
       "    </tr>\n",
       "    <tr>\n",
       "      <th>4</th>\n",
       "      <td>5</td>\n",
       "      <td>6</td>\n",
       "      <td>5.0</td>\n",
       "      <td>1</td>\n",
       "      <td>1</td>\n",
       "      <td>1500</td>\n",
       "    </tr>\n",
       "    <tr>\n",
       "      <th>...</th>\n",
       "      <td>...</td>\n",
       "      <td>...</td>\n",
       "      <td>...</td>\n",
       "      <td>...</td>\n",
       "      <td>...</td>\n",
       "      <td>...</td>\n",
       "    </tr>\n",
       "    <tr>\n",
       "      <th>6038</th>\n",
       "      <td>2</td>\n",
       "      <td>4</td>\n",
       "      <td>4.0</td>\n",
       "      <td>667</td>\n",
       "      <td>216</td>\n",
       "      <td>10</td>\n",
       "    </tr>\n",
       "    <tr>\n",
       "      <th>6039</th>\n",
       "      <td>4</td>\n",
       "      <td>4</td>\n",
       "      <td>4.0</td>\n",
       "      <td>667</td>\n",
       "      <td>216</td>\n",
       "      <td>10</td>\n",
       "    </tr>\n",
       "    <tr>\n",
       "      <th>6040</th>\n",
       "      <td>27</td>\n",
       "      <td>4</td>\n",
       "      <td>4.0</td>\n",
       "      <td>667</td>\n",
       "      <td>216</td>\n",
       "      <td>0</td>\n",
       "    </tr>\n",
       "    <tr>\n",
       "      <th>6041</th>\n",
       "      <td>86</td>\n",
       "      <td>4</td>\n",
       "      <td>4.0</td>\n",
       "      <td>667</td>\n",
       "      <td>216</td>\n",
       "      <td>0</td>\n",
       "    </tr>\n",
       "    <tr>\n",
       "      <th>6042</th>\n",
       "      <td>87</td>\n",
       "      <td>4</td>\n",
       "      <td>4.0</td>\n",
       "      <td>667</td>\n",
       "      <td>216</td>\n",
       "      <td>0</td>\n",
       "    </tr>\n",
       "  </tbody>\n",
       "</table>\n",
       "<p>6043 rows × 6 columns</p>\n",
       "</div>"
      ],
      "text/plain": [
       "      Cuisines  Rating_text  Rating  City_id  Country_id  Average_cost\n",
       "0            1            5     5.0        1           1          1600\n",
       "1            2            5     5.0        1           1          1600\n",
       "2            3            5     5.0        1           1          1600\n",
       "3            4            6     5.0        1           1          1500\n",
       "4            5            6     5.0        1           1          1500\n",
       "...        ...          ...     ...      ...         ...           ...\n",
       "6038         2            4     4.0      667         216            10\n",
       "6039         4            4     4.0      667         216            10\n",
       "6040        27            4     4.0      667         216             0\n",
       "6041        86            4     4.0      667         216             0\n",
       "6042        87            4     4.0      667         216             0\n",
       "\n",
       "[6043 rows x 6 columns]"
      ]
     },
     "execution_count": 29,
     "metadata": {},
     "output_type": "execute_result"
    }
   ],
   "source": [
    "df1"
   ]
  },
  {
   "cell_type": "code",
   "execution_count": 30,
   "metadata": {},
   "outputs": [
    {
     "data": {
      "text/plain": [
       "Cuisines          int64\n",
       "Rating_text       int64\n",
       "Rating          float64\n",
       "City_id           int64\n",
       "Country_id        int64\n",
       "Average_cost      int64\n",
       "dtype: object"
      ]
     },
     "execution_count": 30,
     "metadata": {},
     "output_type": "execute_result"
    }
   ],
   "source": [
    "df1.dtypes"
   ]
  },
  {
   "cell_type": "code",
   "execution_count": null,
   "metadata": {},
   "outputs": [],
   "source": [
    "X = df.iloc[:,:5]\n",
    "y = df.iloc[:,5]"
   ]
  },
  {
   "cell_type": "code",
   "execution_count": 41,
   "metadata": {},
   "outputs": [
    {
     "name": "stdout",
     "output_type": "stream",
     "text": [
      "✅ MSE: 448268613.44\n",
      "✅ RMSE: 21172.35\n",
      "✅ R² Score: 0.65\n"
     ]
    }
   ],
   "source": [
    "# 📦 Import necessary libraries\n",
    "import pandas as pd\n",
    "from sklearn.model_selection import train_test_split\n",
    "from sklearn.ensemble import RandomForestRegressor\n",
    "from sklearn.metrics import mean_squared_error, r2_score\n",
    "import numpy as np\n",
    "import seaborn as sns\n",
    "import matplotlib.pyplot as plt\n",
    "\n",
    "# 🧪 Step 1: Load your dataset (Example)\n",
    "\n",
    "\n",
    "# Let's assume 'target' is your target variable\n",
    "X = df1.drop('Average_cost', axis=1)\n",
    "y = df1['Average_cost']\n",
    "\n",
    "# 🔤 Step 2: Handle categorical variables using One-Hot Encoding\n",
    "X = pd.get_dummies(X)\n",
    "\n",
    "# ✂️ Step 3: Split data into train and test\n",
    "X_train, X_test, y_train, y_test = train_test_split(X, y, test_size=0.25, random_state=42)\n",
    "\n",
    "# 🌲 Step 4: Train the Random Forest Regressor\n",
    "rf = RandomForestRegressor(n_estimators=20, random_state=42)\n",
    "rf.fit(X_train, y_train)\n",
    "\n",
    "# 🔮 Step 5: Predict on test data\n",
    "y_pred = rf.predict(X_test)\n",
    "\n",
    "# 📈 Step 6: Evaluate performance\n",
    "mse = mean_squared_error(y_test, y_pred)\n",
    "rmse = np.sqrt(mse)\n",
    "r2 = r2_score(y_test, y_pred)\n",
    "\n",
    "print(f\"✅ MSE: {mse:.2f}\")\n",
    "print(f\"✅ RMSE: {rmse:.2f}\")\n",
    "print(f\"✅ R² Score: {r2:.2f}\")\n"
   ]
  },
  {
   "cell_type": "code",
   "execution_count": 32,
   "metadata": {},
   "outputs": [
    {
     "name": "stdout",
     "output_type": "stream",
     "text": [
      "   Actual    Predicted\n",
      "0     550  1075.025873\n",
      "1      70    70.791667\n",
      "2    1100   531.309524\n",
      "3     700   947.986194\n",
      "4    1900  2017.583974\n",
      "5    1500  1015.845238\n",
      "6     200   200.000000\n",
      "7     300   391.550000\n",
      "8     250   374.333333\n",
      "9    1100  1231.857143\n"
     ]
    }
   ],
   "source": [
    "y_pred = rf.predict(X_test)\n",
    "\n",
    "# 6. Show predictions vs actuals\n",
    "predictions_df = pd.DataFrame({'Actual': y_test.values, 'Predicted': y_pred})\n",
    "print(predictions_df.head(10))"
   ]
  },
  {
   "cell_type": "code",
   "execution_count": 33,
   "metadata": {},
   "outputs": [
    {
     "name": "stderr",
     "output_type": "stream",
     "text": [
      "C:\\Users\\Raj\\AppData\\Local\\Temp\\ipykernel_16364\\2673169349.py:12: UserWarning: Glyph 128202 (\\N{BAR CHART}) missing from current font.\n",
      "  plt.tight_layout()\n",
      "c:\\Users\\Raj\\anaconda3\\Lib\\site-packages\\IPython\\core\\pylabtools.py:152: UserWarning: Glyph 128202 (\\N{BAR CHART}) missing from current font.\n",
      "  fig.canvas.print_figure(bytes_io, **kw)\n"
     ]
    },
    {
     "data": {
      "image/png": "[encoded data removed]",
      "text/plain": [
       "<Figure size 700x700 with 1 Axes>"
      ]
     },
     "metadata": {},
     "output_type": "display_data"
    }
   ],
   "source": [
    "import matplotlib.pyplot as plt\n",
    "import seaborn as sns\n",
    "\n",
    "# Assuming y_test and y_pred are already defined for Random Forest\n",
    "plt.figure(figsize=(7, 7))\n",
    "sns.scatterplot(x=y_test, y=y_pred, color='blue', alpha=0.6)\n",
    "plt.plot([y_test.min(), y_test.max()], [y_test.min(), y_test.max()], 'r--', linewidth=2)\n",
    "plt.xlabel(\"Actual Values\")\n",
    "plt.ylabel(\"Predicted Values\")\n",
    "plt.title(\"📊 Random Forest: Actual vs Predicted\")\n",
    "plt.grid(True)\n",
    "plt.tight_layout()\n",
    "plt.show()\n"
   ]
  },
  {
   "cell_type": "code",
   "execution_count": null,
   "metadata": {},
   "outputs": [
    {
     "name": "stdout",
     "output_type": "stream",
     "text": [
      "✅ Trained model saved as 'zomato_ML.pkl'\n"
     ]
    }
   ],
   "source": [
    "import pickle\n",
    "\n",
    "\n",
    "\n",
    "# ✅ Save the model\n",
    "with open('zomato_ML.pkl', 'wb') as f:\n",
    "    pickle.dump(rf, f)\n",
    "\n",
    "print(\"✅ Trained model saved as 'zomato_ML.pkl'\")"
   ]
  }
 ],
 "metadata": {
  "kernelspec": {
   "display_name": "base",
   "language": "python",
   "name": "python3"
  },
  "language_info": {
   "codemirror_mode": {
    "name": "ipython",
    "version": 3
   },
   "file_extension": ".py",
   "mimetype": "text/x-python",
   "name": "python",
   "nbconvert_exporter": "python",
   "pygments_lexer": "ipython3",
   "version": "3.11.5"
  }
 },
 "nbformat": 4,
 "nbformat_minor": 2
}
